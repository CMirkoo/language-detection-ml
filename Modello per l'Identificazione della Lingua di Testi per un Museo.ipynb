{
  "nbformat": 4,
  "nbformat_minor": 0,
  "metadata": {
    "colab": {
      "provenance": [],
      "toc_visible": true
    },
    "kernelspec": {
      "name": "python3",
      "display_name": "Python 3"
    },
    "language_info": {
      "name": "python"
    }
  },
  "cells": [
    {
      "cell_type": "markdown",
      "source": [
        "# **Progetto: Modello per l'Identificazione della Lingua di Testi per un Museo**"
      ],
      "metadata": {
        "id": "VUpn6ePWB32a"
      }
    },
    {
      "cell_type": "markdown",
      "source": [
        "## **Problema**"
      ],
      "metadata": {
        "id": "exypNEr49dQA"
      }
    },
    {
      "cell_type": "markdown",
      "source": [
        "La gestione delle informazioni multilingue è una sfida significativa per il museo. Attualmente, la lingua di ogni descrizione deve essere identificata manualmente, il che richiede tempo e può portare a errori. Con l'espansione delle collezioni, il numero di testi da analizzare aumenta, rendendo necessario un approccio automatizzato e scalabile."
      ],
      "metadata": {
        "id": "buDsfyTC9kKp"
      }
    },
    {
      "cell_type": "markdown",
      "source": [
        "## **Obiettivo del progetto:**"
      ],
      "metadata": {
        "id": "edJj1OVUnBFY"
      }
    },
    {
      "cell_type": "markdown",
      "source": [
        "L'obiettivo è sviluppare un modello di machine learning basato su tecniche di Natural Language Processing (NLP) per identificare la lingua di testi forniti dal museo. Questo modello dovrà:\n",
        "\n",
        "- Riconoscere automaticamente la lingua di un testo.\n",
        "- Supportare almeno 3 lingue principali.\n",
        "- Essere facile da integrare con il sistema esistente del museo."
      ],
      "metadata": {
        "id": "cQp9jK8T9pRt"
      }
    },
    {
      "cell_type": "markdown",
      "source": [
        "## **Benefici del progetto:**"
      ],
      "metadata": {
        "id": "ypkrSj5p91ct"
      }
    },
    {
      "cell_type": "markdown",
      "source": [
        "- Automazione: Eliminare la necessità di identificazione manuale delle lingue.\n",
        "- Efficienza: Processare rapidamente grandi volumi di testi.\n",
        "- Accuratezza: Ridurre gli errori umani nell'identificazione delle lingue."
      ],
      "metadata": {
        "id": "EZq5HZzI94Qr"
      }
    },
    {
      "cell_type": "markdown",
      "source": [
        "---"
      ],
      "metadata": {
        "id": "0acEXswH-Ztf"
      }
    },
    {
      "cell_type": "markdown",
      "source": [
        "## **Codice:**\n"
      ],
      "metadata": {
        "id": "__MgqmNzBpsH"
      }
    },
    {
      "cell_type": "markdown",
      "source": [
        "### **Librerie**\n",
        "<a name = \"librerie\" />"
      ],
      "metadata": {
        "id": "MH_viRKKH60W"
      }
    },
    {
      "cell_type": "code",
      "execution_count": null,
      "metadata": {
        "id": "xHvbkQHVAJV2",
        "colab": {
          "base_uri": "https://localhost:8080/"
        },
        "outputId": "35a9f94e-d17f-4eb8-8cfd-8d3f7107b417"
      },
      "outputs": [
        {
          "output_type": "stream",
          "name": "stderr",
          "text": [
            "[nltk_data] Downloading package stopwords to /root/nltk_data...\n",
            "[nltk_data]   Package stopwords is already up-to-date!\n"
          ]
        }
      ],
      "source": [
        "# Librerie\n",
        "\n",
        "import nltk\n",
        "nltk.download('stopwords')\n",
        "\n",
        "stopwords_it = set(stopwords.words('italian'))\n",
        "stopwords_en = set(stopwords.words('english'))\n",
        "stopwords_de = set(stopwords.words('german'))\n",
        "\n",
        "all_stopwords = stopwords_it | stopwords_en | stopwords_de\n",
        "\n",
        "import pandas as pd\n",
        "import re\n",
        "import string\n",
        "import numpy as np\n",
        "from nltk import ngrams\n",
        "from nltk.corpus import stopwords\n",
        "from sklearn.preprocessing import LabelEncoder\n",
        "from sklearn.feature_extraction.text import CountVectorizer\n",
        "from sklearn.model_selection import train_test_split, RandomizedSearchCV\n",
        "from sklearn.neural_network import MLPClassifier\n",
        "from sklearn.naive_bayes import MultinomialNB\n",
        "from sklearn.metrics import classification_report, accuracy_score, log_loss\n",
        "from scipy.stats import uniform, randint\n",
        "\n",
        "RANDOM_SEED = 42"
      ]
    },
    {
      "cell_type": "markdown",
      "source": [
        "### **Funzioni**\n",
        "<a name = \"funzioni\" />"
      ],
      "metadata": {
        "id": "FJ1OhVwIH8V7"
      }
    },
    {
      "cell_type": "code",
      "source": [
        "def data_cleaner(sentence): # Funzione per la pulizia del testo\n",
        "\n",
        "    sentence = sentence.lower() # Tolgo le maiuscole\n",
        "    for c in string.punctuation: # Itero per togliere la punteggiatura e metto uno spazio\n",
        "        sentence = sentence.replace(c, \" \")\n",
        "\n",
        "    sentence = ' '.join(word for word in sentence.split() if word not in all_stopwords) # Rimuovo le stopwords\n",
        "    sentence = re.sub(\"\\d\", \"\", sentence) # Tolgo i numeri\n",
        "    sentence = re.sub(\" +\", \" \", sentence) # Tolgo gli spazzi multipli\n",
        "\n",
        "    return sentence\n",
        "\n",
        "def bow_count(dataset, count_vectorizer): # Funzione per applicare il CountVectorizer\n",
        "\n",
        "    X = count_vectorizer.transform(dataset) # Trasformo una frase\n",
        "\n",
        "    return X.toarray()\n",
        "\n",
        "\n",
        "def pred(model, sentence, cvectorized): # Funzione per analizzare del testo inserito dell'utente\n",
        "\n",
        "    try:\n",
        "        cleaned_sentence = data_cleaner(sentence) # Pulisco la frase\n",
        "        ngrams_list = [\" \".join([\"\".join(gram) for gram in ngrams(cleaned_sentence, 3)])] # Creo i tri-grammi\n",
        "        vectorized_sentence = bow_count(ngrams_list, cvectorized) # Trasformo la frase\n",
        "        risultato = model.predict(vectorized_sentence) # Faccio la predizione\n",
        "\n",
        "        # Decodifico il numero nella lingua corrispondente\n",
        "        lingua_predetta = label_encoder.inverse_transform([risultato[0]])[0]\n",
        "\n",
        "        return f\"La frase da te inserita corrisponde alla lingua: {lingua_predetta}\"\n",
        "\n",
        "    except Exception as e:\n",
        "\n",
        "        return f\"Errore durante la predizione: {e}\""
      ],
      "metadata": {
        "id": "-LGIwibOIBQU"
      },
      "execution_count": null,
      "outputs": []
    },
    {
      "cell_type": "markdown",
      "source": [
        "### **Main / Codice principale**\n",
        "<a name = \"main-/-codice-principale\" />"
      ],
      "metadata": {
        "id": "VBJkQwoqIFyw"
      }
    },
    {
      "cell_type": "code",
      "source": [
        "df_lingue = pd.read_csv(\"https://raw.githubusercontent.com/Profession-AI/progetti-ml/refs/heads/main/Modello%20per%20l'identificazione%20della%20lingua%20dei%20testi%20di%20un%20museo/museo_descrizioni.csv\") # Carico il dataset\n",
        "df_lingue"
      ],
      "metadata": {
        "colab": {
          "base_uri": "https://localhost:8080/",
          "height": 424
        },
        "id": "-Ycej0huHsrE",
        "outputId": "2488cf3d-4061-4057-9270-33d7c7e24c67"
      },
      "execution_count": null,
      "outputs": [
        {
          "output_type": "execute_result",
          "data": {
            "text/plain": [
              "                                                 Testo Codice Lingua\n",
              "0    Statua in marmo di un imperatore romano del II...            it\n",
              "1           Anfora greca con decorazioni a figure nere            it\n",
              "2    Dipinto rinascimentale raffigurante la Madonna...            it\n",
              "3           Elmo corinzio in bronzo del VI secolo a.C.            it\n",
              "4           Manoscritto medievale con miniature dorate            it\n",
              "..                                                 ...           ...\n",
              "289         Wikinger-Anhänger mit Darstellung von Thor            de\n",
              "290  Päpstliches Bleisiegel mit dem Bild des Heilig...            de\n",
              "291    Leder-Gürtel mit langobardischer Bronzeschließe            de\n",
              "292  Renaissance-Kupferbecken mit pflanzlichen Must...            de\n",
              "293        Helm mit Kamm der samnitischen Zivilisation            de\n",
              "\n",
              "[294 rows x 2 columns]"
            ],
            "text/html": [
              "\n",
              "  <div id=\"df-78d8c0cc-6689-4fcf-9bc4-344e5112fe29\" class=\"colab-df-container\">\n",
              "    <div>\n",
              "<style scoped>\n",
              "    .dataframe tbody tr th:only-of-type {\n",
              "        vertical-align: middle;\n",
              "    }\n",
              "\n",
              "    .dataframe tbody tr th {\n",
              "        vertical-align: top;\n",
              "    }\n",
              "\n",
              "    .dataframe thead th {\n",
              "        text-align: right;\n",
              "    }\n",
              "</style>\n",
              "<table border=\"1\" class=\"dataframe\">\n",
              "  <thead>\n",
              "    <tr style=\"text-align: right;\">\n",
              "      <th></th>\n",
              "      <th>Testo</th>\n",
              "      <th>Codice Lingua</th>\n",
              "    </tr>\n",
              "  </thead>\n",
              "  <tbody>\n",
              "    <tr>\n",
              "      <th>0</th>\n",
              "      <td>Statua in marmo di un imperatore romano del II...</td>\n",
              "      <td>it</td>\n",
              "    </tr>\n",
              "    <tr>\n",
              "      <th>1</th>\n",
              "      <td>Anfora greca con decorazioni a figure nere</td>\n",
              "      <td>it</td>\n",
              "    </tr>\n",
              "    <tr>\n",
              "      <th>2</th>\n",
              "      <td>Dipinto rinascimentale raffigurante la Madonna...</td>\n",
              "      <td>it</td>\n",
              "    </tr>\n",
              "    <tr>\n",
              "      <th>3</th>\n",
              "      <td>Elmo corinzio in bronzo del VI secolo a.C.</td>\n",
              "      <td>it</td>\n",
              "    </tr>\n",
              "    <tr>\n",
              "      <th>4</th>\n",
              "      <td>Manoscritto medievale con miniature dorate</td>\n",
              "      <td>it</td>\n",
              "    </tr>\n",
              "    <tr>\n",
              "      <th>...</th>\n",
              "      <td>...</td>\n",
              "      <td>...</td>\n",
              "    </tr>\n",
              "    <tr>\n",
              "      <th>289</th>\n",
              "      <td>Wikinger-Anhänger mit Darstellung von Thor</td>\n",
              "      <td>de</td>\n",
              "    </tr>\n",
              "    <tr>\n",
              "      <th>290</th>\n",
              "      <td>Päpstliches Bleisiegel mit dem Bild des Heilig...</td>\n",
              "      <td>de</td>\n",
              "    </tr>\n",
              "    <tr>\n",
              "      <th>291</th>\n",
              "      <td>Leder-Gürtel mit langobardischer Bronzeschließe</td>\n",
              "      <td>de</td>\n",
              "    </tr>\n",
              "    <tr>\n",
              "      <th>292</th>\n",
              "      <td>Renaissance-Kupferbecken mit pflanzlichen Must...</td>\n",
              "      <td>de</td>\n",
              "    </tr>\n",
              "    <tr>\n",
              "      <th>293</th>\n",
              "      <td>Helm mit Kamm der samnitischen Zivilisation</td>\n",
              "      <td>de</td>\n",
              "    </tr>\n",
              "  </tbody>\n",
              "</table>\n",
              "<p>294 rows × 2 columns</p>\n",
              "</div>\n",
              "    <div class=\"colab-df-buttons\">\n",
              "\n",
              "  <div class=\"colab-df-container\">\n",
              "    <button class=\"colab-df-convert\" onclick=\"convertToInteractive('df-78d8c0cc-6689-4fcf-9bc4-344e5112fe29')\"\n",
              "            title=\"Convert this dataframe to an interactive table.\"\n",
              "            style=\"display:none;\">\n",
              "\n",
              "  <svg xmlns=\"http://www.w3.org/2000/svg\" height=\"24px\" viewBox=\"0 -960 960 960\">\n",
              "    <path d=\"M120-120v-720h720v720H120Zm60-500h600v-160H180v160Zm220 220h160v-160H400v160Zm0 220h160v-160H400v160ZM180-400h160v-160H180v160Zm440 0h160v-160H620v160ZM180-180h160v-160H180v160Zm440 0h160v-160H620v160Z\"/>\n",
              "  </svg>\n",
              "    </button>\n",
              "\n",
              "  <style>\n",
              "    .colab-df-container {\n",
              "      display:flex;\n",
              "      gap: 12px;\n",
              "    }\n",
              "\n",
              "    .colab-df-convert {\n",
              "      background-color: #E8F0FE;\n",
              "      border: none;\n",
              "      border-radius: 50%;\n",
              "      cursor: pointer;\n",
              "      display: none;\n",
              "      fill: #1967D2;\n",
              "      height: 32px;\n",
              "      padding: 0 0 0 0;\n",
              "      width: 32px;\n",
              "    }\n",
              "\n",
              "    .colab-df-convert:hover {\n",
              "      background-color: #E2EBFA;\n",
              "      box-shadow: 0px 1px 2px rgba(60, 64, 67, 0.3), 0px 1px 3px 1px rgba(60, 64, 67, 0.15);\n",
              "      fill: #174EA6;\n",
              "    }\n",
              "\n",
              "    .colab-df-buttons div {\n",
              "      margin-bottom: 4px;\n",
              "    }\n",
              "\n",
              "    [theme=dark] .colab-df-convert {\n",
              "      background-color: #3B4455;\n",
              "      fill: #D2E3FC;\n",
              "    }\n",
              "\n",
              "    [theme=dark] .colab-df-convert:hover {\n",
              "      background-color: #434B5C;\n",
              "      box-shadow: 0px 1px 3px 1px rgba(0, 0, 0, 0.15);\n",
              "      filter: drop-shadow(0px 1px 2px rgba(0, 0, 0, 0.3));\n",
              "      fill: #FFFFFF;\n",
              "    }\n",
              "  </style>\n",
              "\n",
              "    <script>\n",
              "      const buttonEl =\n",
              "        document.querySelector('#df-78d8c0cc-6689-4fcf-9bc4-344e5112fe29 button.colab-df-convert');\n",
              "      buttonEl.style.display =\n",
              "        google.colab.kernel.accessAllowed ? 'block' : 'none';\n",
              "\n",
              "      async function convertToInteractive(key) {\n",
              "        const element = document.querySelector('#df-78d8c0cc-6689-4fcf-9bc4-344e5112fe29');\n",
              "        const dataTable =\n",
              "          await google.colab.kernel.invokeFunction('convertToInteractive',\n",
              "                                                    [key], {});\n",
              "        if (!dataTable) return;\n",
              "\n",
              "        const docLinkHtml = 'Like what you see? Visit the ' +\n",
              "          '<a target=\"_blank\" href=https://colab.research.google.com/notebooks/data_table.ipynb>data table notebook</a>'\n",
              "          + ' to learn more about interactive tables.';\n",
              "        element.innerHTML = '';\n",
              "        dataTable['output_type'] = 'display_data';\n",
              "        await google.colab.output.renderOutput(dataTable, element);\n",
              "        const docLink = document.createElement('div');\n",
              "        docLink.innerHTML = docLinkHtml;\n",
              "        element.appendChild(docLink);\n",
              "      }\n",
              "    </script>\n",
              "  </div>\n",
              "\n",
              "\n",
              "<div id=\"df-8c00507c-08be-4419-89dd-5545b47c9033\">\n",
              "  <button class=\"colab-df-quickchart\" onclick=\"quickchart('df-8c00507c-08be-4419-89dd-5545b47c9033')\"\n",
              "            title=\"Suggest charts\"\n",
              "            style=\"display:none;\">\n",
              "\n",
              "<svg xmlns=\"http://www.w3.org/2000/svg\" height=\"24px\"viewBox=\"0 0 24 24\"\n",
              "     width=\"24px\">\n",
              "    <g>\n",
              "        <path d=\"M19 3H5c-1.1 0-2 .9-2 2v14c0 1.1.9 2 2 2h14c1.1 0 2-.9 2-2V5c0-1.1-.9-2-2-2zM9 17H7v-7h2v7zm4 0h-2V7h2v10zm4 0h-2v-4h2v4z\"/>\n",
              "    </g>\n",
              "</svg>\n",
              "  </button>\n",
              "\n",
              "<style>\n",
              "  .colab-df-quickchart {\n",
              "      --bg-color: #E8F0FE;\n",
              "      --fill-color: #1967D2;\n",
              "      --hover-bg-color: #E2EBFA;\n",
              "      --hover-fill-color: #174EA6;\n",
              "      --disabled-fill-color: #AAA;\n",
              "      --disabled-bg-color: #DDD;\n",
              "  }\n",
              "\n",
              "  [theme=dark] .colab-df-quickchart {\n",
              "      --bg-color: #3B4455;\n",
              "      --fill-color: #D2E3FC;\n",
              "      --hover-bg-color: #434B5C;\n",
              "      --hover-fill-color: #FFFFFF;\n",
              "      --disabled-bg-color: #3B4455;\n",
              "      --disabled-fill-color: #666;\n",
              "  }\n",
              "\n",
              "  .colab-df-quickchart {\n",
              "    background-color: var(--bg-color);\n",
              "    border: none;\n",
              "    border-radius: 50%;\n",
              "    cursor: pointer;\n",
              "    display: none;\n",
              "    fill: var(--fill-color);\n",
              "    height: 32px;\n",
              "    padding: 0;\n",
              "    width: 32px;\n",
              "  }\n",
              "\n",
              "  .colab-df-quickchart:hover {\n",
              "    background-color: var(--hover-bg-color);\n",
              "    box-shadow: 0 1px 2px rgba(60, 64, 67, 0.3), 0 1px 3px 1px rgba(60, 64, 67, 0.15);\n",
              "    fill: var(--button-hover-fill-color);\n",
              "  }\n",
              "\n",
              "  .colab-df-quickchart-complete:disabled,\n",
              "  .colab-df-quickchart-complete:disabled:hover {\n",
              "    background-color: var(--disabled-bg-color);\n",
              "    fill: var(--disabled-fill-color);\n",
              "    box-shadow: none;\n",
              "  }\n",
              "\n",
              "  .colab-df-spinner {\n",
              "    border: 2px solid var(--fill-color);\n",
              "    border-color: transparent;\n",
              "    border-bottom-color: var(--fill-color);\n",
              "    animation:\n",
              "      spin 1s steps(1) infinite;\n",
              "  }\n",
              "\n",
              "  @keyframes spin {\n",
              "    0% {\n",
              "      border-color: transparent;\n",
              "      border-bottom-color: var(--fill-color);\n",
              "      border-left-color: var(--fill-color);\n",
              "    }\n",
              "    20% {\n",
              "      border-color: transparent;\n",
              "      border-left-color: var(--fill-color);\n",
              "      border-top-color: var(--fill-color);\n",
              "    }\n",
              "    30% {\n",
              "      border-color: transparent;\n",
              "      border-left-color: var(--fill-color);\n",
              "      border-top-color: var(--fill-color);\n",
              "      border-right-color: var(--fill-color);\n",
              "    }\n",
              "    40% {\n",
              "      border-color: transparent;\n",
              "      border-right-color: var(--fill-color);\n",
              "      border-top-color: var(--fill-color);\n",
              "    }\n",
              "    60% {\n",
              "      border-color: transparent;\n",
              "      border-right-color: var(--fill-color);\n",
              "    }\n",
              "    80% {\n",
              "      border-color: transparent;\n",
              "      border-right-color: var(--fill-color);\n",
              "      border-bottom-color: var(--fill-color);\n",
              "    }\n",
              "    90% {\n",
              "      border-color: transparent;\n",
              "      border-bottom-color: var(--fill-color);\n",
              "    }\n",
              "  }\n",
              "</style>\n",
              "\n",
              "  <script>\n",
              "    async function quickchart(key) {\n",
              "      const quickchartButtonEl =\n",
              "        document.querySelector('#' + key + ' button');\n",
              "      quickchartButtonEl.disabled = true;  // To prevent multiple clicks.\n",
              "      quickchartButtonEl.classList.add('colab-df-spinner');\n",
              "      try {\n",
              "        const charts = await google.colab.kernel.invokeFunction(\n",
              "            'suggestCharts', [key], {});\n",
              "      } catch (error) {\n",
              "        console.error('Error during call to suggestCharts:', error);\n",
              "      }\n",
              "      quickchartButtonEl.classList.remove('colab-df-spinner');\n",
              "      quickchartButtonEl.classList.add('colab-df-quickchart-complete');\n",
              "    }\n",
              "    (() => {\n",
              "      let quickchartButtonEl =\n",
              "        document.querySelector('#df-8c00507c-08be-4419-89dd-5545b47c9033 button');\n",
              "      quickchartButtonEl.style.display =\n",
              "        google.colab.kernel.accessAllowed ? 'block' : 'none';\n",
              "    })();\n",
              "  </script>\n",
              "</div>\n",
              "\n",
              "  <div id=\"id_05feabc9-6ed1-403a-b9ba-0150fad7ba33\">\n",
              "    <style>\n",
              "      .colab-df-generate {\n",
              "        background-color: #E8F0FE;\n",
              "        border: none;\n",
              "        border-radius: 50%;\n",
              "        cursor: pointer;\n",
              "        display: none;\n",
              "        fill: #1967D2;\n",
              "        height: 32px;\n",
              "        padding: 0 0 0 0;\n",
              "        width: 32px;\n",
              "      }\n",
              "\n",
              "      .colab-df-generate:hover {\n",
              "        background-color: #E2EBFA;\n",
              "        box-shadow: 0px 1px 2px rgba(60, 64, 67, 0.3), 0px 1px 3px 1px rgba(60, 64, 67, 0.15);\n",
              "        fill: #174EA6;\n",
              "      }\n",
              "\n",
              "      [theme=dark] .colab-df-generate {\n",
              "        background-color: #3B4455;\n",
              "        fill: #D2E3FC;\n",
              "      }\n",
              "\n",
              "      [theme=dark] .colab-df-generate:hover {\n",
              "        background-color: #434B5C;\n",
              "        box-shadow: 0px 1px 3px 1px rgba(0, 0, 0, 0.15);\n",
              "        filter: drop-shadow(0px 1px 2px rgba(0, 0, 0, 0.3));\n",
              "        fill: #FFFFFF;\n",
              "      }\n",
              "    </style>\n",
              "    <button class=\"colab-df-generate\" onclick=\"generateWithVariable('df_lingue')\"\n",
              "            title=\"Generate code using this dataframe.\"\n",
              "            style=\"display:none;\">\n",
              "\n",
              "  <svg xmlns=\"http://www.w3.org/2000/svg\" height=\"24px\"viewBox=\"0 0 24 24\"\n",
              "       width=\"24px\">\n",
              "    <path d=\"M7,19H8.4L18.45,9,17,7.55,7,17.6ZM5,21V16.75L18.45,3.32a2,2,0,0,1,2.83,0l1.4,1.43a1.91,1.91,0,0,1,.58,1.4,1.91,1.91,0,0,1-.58,1.4L9.25,21ZM18.45,9,17,7.55Zm-12,3A5.31,5.31,0,0,0,4.9,8.1,5.31,5.31,0,0,0,1,6.5,5.31,5.31,0,0,0,4.9,4.9,5.31,5.31,0,0,0,6.5,1,5.31,5.31,0,0,0,8.1,4.9,5.31,5.31,0,0,0,12,6.5,5.46,5.46,0,0,0,6.5,12Z\"/>\n",
              "  </svg>\n",
              "    </button>\n",
              "    <script>\n",
              "      (() => {\n",
              "      const buttonEl =\n",
              "        document.querySelector('#id_05feabc9-6ed1-403a-b9ba-0150fad7ba33 button.colab-df-generate');\n",
              "      buttonEl.style.display =\n",
              "        google.colab.kernel.accessAllowed ? 'block' : 'none';\n",
              "\n",
              "      buttonEl.onclick = () => {\n",
              "        google.colab.notebook.generateWithVariable('df_lingue');\n",
              "      }\n",
              "      })();\n",
              "    </script>\n",
              "  </div>\n",
              "\n",
              "    </div>\n",
              "  </div>\n"
            ],
            "application/vnd.google.colaboratory.intrinsic+json": {
              "type": "dataframe",
              "variable_name": "df_lingue",
              "summary": "{\n  \"name\": \"df_lingue\",\n  \"rows\": 294,\n  \"fields\": [\n    {\n      \"column\": \"Testo\",\n      \"properties\": {\n        \"dtype\": \"string\",\n        \"num_unique_values\": 294,\n        \"samples\": [\n          \"Ritratto in avorio dell'epoca napoleonica\",\n          \"Vaso cinese della dinastia Ming con smalti blu e bianchi\",\n          \"African ritual mask in carved wood\"\n        ],\n        \"semantic_type\": \"\",\n        \"description\": \"\"\n      }\n    },\n    {\n      \"column\": \"Codice Lingua\",\n      \"properties\": {\n        \"dtype\": \"category\",\n        \"num_unique_values\": 3,\n        \"samples\": [\n          \"it\",\n          \"en\",\n          \"de\"\n        ],\n        \"semantic_type\": \"\",\n        \"description\": \"\"\n      }\n    }\n  ]\n}"
            }
          },
          "metadata": {},
          "execution_count": 110
        }
      ]
    },
    {
      "cell_type": "code",
      "source": [
        "df_lingue[\"Codice Lingua\"].value_counts()"
      ],
      "metadata": {
        "colab": {
          "base_uri": "https://localhost:8080/",
          "height": 210
        },
        "id": "7dETFuqlnOYu",
        "outputId": "6dc71add-9566-4f9e-eaa0-fc0fe30bfd49"
      },
      "execution_count": null,
      "outputs": [
        {
          "output_type": "execute_result",
          "data": {
            "text/plain": [
              "Codice Lingua\n",
              "it    98\n",
              "en    98\n",
              "de    98\n",
              "Name: count, dtype: int64"
            ],
            "text/html": [
              "<div>\n",
              "<style scoped>\n",
              "    .dataframe tbody tr th:only-of-type {\n",
              "        vertical-align: middle;\n",
              "    }\n",
              "\n",
              "    .dataframe tbody tr th {\n",
              "        vertical-align: top;\n",
              "    }\n",
              "\n",
              "    .dataframe thead th {\n",
              "        text-align: right;\n",
              "    }\n",
              "</style>\n",
              "<table border=\"1\" class=\"dataframe\">\n",
              "  <thead>\n",
              "    <tr style=\"text-align: right;\">\n",
              "      <th></th>\n",
              "      <th>count</th>\n",
              "    </tr>\n",
              "    <tr>\n",
              "      <th>Codice Lingua</th>\n",
              "      <th></th>\n",
              "    </tr>\n",
              "  </thead>\n",
              "  <tbody>\n",
              "    <tr>\n",
              "      <th>it</th>\n",
              "      <td>98</td>\n",
              "    </tr>\n",
              "    <tr>\n",
              "      <th>en</th>\n",
              "      <td>98</td>\n",
              "    </tr>\n",
              "    <tr>\n",
              "      <th>de</th>\n",
              "      <td>98</td>\n",
              "    </tr>\n",
              "  </tbody>\n",
              "</table>\n",
              "</div><br><label><b>dtype:</b> int64</label>"
            ]
          },
          "metadata": {},
          "execution_count": 111
        }
      ]
    },
    {
      "cell_type": "code",
      "source": [
        "target = df_lingue[\"Codice Lingua\"] # Valore da prevedere\n",
        "\n",
        "df_lingue_cleaned = [data_cleaner(sentence) for sentence in df_lingue[\"Testo\"]] # Pulisco il dataset\n",
        "ngr_df_lingue_cleaned = [\" \".join([\"\".join(gram) for gram in ngrams(sentence, 3)]) for sentence in df_lingue_cleaned] # Creo i tri-grammi e li racchiudo in una sola stringa\n",
        "\n",
        "cvectorized = CountVectorizer(analyzer=\"char\", ngram_range=(1, 3)) # Creo il CountVectorizer\n",
        "cvectorized.fit(ngr_df_lingue_cleaned) # Eseguo il fit sul dataset\n",
        "\n",
        "ngr_bow_df = bow_count(ngr_df_lingue_cleaned, cvectorized) # E lo trasformo\n",
        "\n",
        "X_train, X_test, y_train, y_test = train_test_split(ngr_bow_df, target, test_size=0.2, stratify=target, random_state=RANDOM_SEED) # Divido il dataset in train e test"
      ],
      "metadata": {
        "id": "U_6vYdB8Q6LB"
      },
      "execution_count": null,
      "outputs": []
    },
    {
      "cell_type": "code",
      "source": [
        "label_encoder = LabelEncoder()  # Inizializza il LabelEncoder per convertire le etichette testuali in numeri\n",
        "y_train = label_encoder.fit_transform(y_train)  # Adatta il LabelEncoder ai dati di training\n",
        "y_test = label_encoder.transform(y_test)  # Converte le etichette del test set in numeri usando la stessa codifica"
      ],
      "metadata": {
        "id": "J2ESI3Laf_pi"
      },
      "execution_count": null,
      "outputs": []
    },
    {
      "cell_type": "markdown",
      "source": [
        "#### Primo modello (MLPClassifier)"
      ],
      "metadata": {
        "id": "OAxL8T_yJ8UH"
      }
    },
    {
      "cell_type": "code",
      "source": [
        "param_distributions = {\n",
        "    \"hidden_layer_sizes\": [\n",
        "        (randint(50, 200).rvs(),),\n",
        "         (randint(50, 200).rvs(), randint(50, 200).rvs())], # 2 Strutte di hiddenlayer da testare\n",
        "    \"activation\": [\"relu\", \"tanh\",\"logistic\"], # Vari modelli da testare\n",
        "    \"alpha\": uniform(0.0001, 0.01), # Distribuzione uniforme tra 0.0001 e 0.01\n",
        "    \"learning_rate_init\": uniform(0.001, 0.01), # Distribuzione uniforme tra 0.001 e 0.01\n",
        "}\n",
        "\n",
        "mlp = MLPClassifier(max_iter=300, random_state=RANDOM_SEED, solver=\"adam\", early_stopping=False) # Creo il modello MLPClassifier\n",
        "\n",
        "rs = RandomizedSearchCV( # Inizializzo il modello per trovare gli iperparametri\n",
        "    estimator=mlp,\n",
        "    param_distributions=param_distributions,\n",
        "    scoring=\"accuracy\",\n",
        "    refit=True,\n",
        "    n_iter=20,\n",
        "    cv=10,\n",
        "    random_state=RANDOM_SEED,\n",
        "    n_jobs=-1,\n",
        ")"
      ],
      "metadata": {
        "id": "nIeUmpcdXgu6"
      },
      "execution_count": null,
      "outputs": []
    },
    {
      "cell_type": "code",
      "source": [
        "rs.fit(X_train, y_train) # Esecuzione della ricerca degli iperparametri\n",
        "\n",
        "# Migliori iperparametri e miglior punteggio\n",
        "print(\"Migliori iperparametri:\", rs.best_params_)\n",
        "print(\"Miglior punteggio:\", rs.best_score_)"
      ],
      "metadata": {
        "colab": {
          "base_uri": "https://localhost:8080/"
        },
        "id": "xfzhRaPoYtJY",
        "outputId": "f0ebfb0d-586a-4b78-ab19-d57d46b079bf"
      },
      "execution_count": null,
      "outputs": [
        {
          "output_type": "stream",
          "name": "stdout",
          "text": [
            "Migliori iperparametri: {'activation': 'relu', 'alpha': 0.009756320330745593, 'hidden_layer_sizes': (131, 100), 'learning_rate_init': 0.004854165025399161}\n",
            "Miglior punteggio: 0.9704710144927537\n"
          ]
        }
      ]
    },
    {
      "cell_type": "code",
      "source": [
        "clf = rs.best_estimator_ # Prendo i migliori iperparametri\n",
        "clf.fit(X_train, y_train) # Addestro il modello sul dataset di train\n",
        "\n",
        "y_pred_test = clf.predict(X_test) # Prevedo i risultati del test set\n",
        "print(\"Classification Report (Test Set):\\n\", classification_report(y_test, y_pred_test)) # Stampo la tabella dei risultati\n",
        "\n",
        "y_pred_train = clf.predict(X_train)  # Prevedo i risultati per il training set\n",
        "print(\"\\nClassification Report (Training Set):\\n\", classification_report(y_train, y_pred_train)) # Stampo la tabella dei risultati"
      ],
      "metadata": {
        "colab": {
          "base_uri": "https://localhost:8080/"
        },
        "id": "Ao-WRwY2VG5B",
        "outputId": "c6ced28f-a9b4-492f-f67e-8d2f0da28a07"
      },
      "execution_count": null,
      "outputs": [
        {
          "output_type": "stream",
          "name": "stdout",
          "text": [
            "Classification Report (Test Set):\n",
            "               precision    recall  f1-score   support\n",
            "\n",
            "           0       1.00      0.95      0.97        19\n",
            "           1       0.95      0.95      0.95        20\n",
            "           2       0.95      1.00      0.98        20\n",
            "\n",
            "    accuracy                           0.97        59\n",
            "   macro avg       0.97      0.97      0.97        59\n",
            "weighted avg       0.97      0.97      0.97        59\n",
            "\n",
            "\n",
            "Classification Report (Training Set):\n",
            "               precision    recall  f1-score   support\n",
            "\n",
            "           0       1.00      1.00      1.00        79\n",
            "           1       1.00      1.00      1.00        78\n",
            "           2       1.00      1.00      1.00        78\n",
            "\n",
            "    accuracy                           1.00       235\n",
            "   macro avg       1.00      1.00      1.00       235\n",
            "weighted avg       1.00      1.00      1.00       235\n",
            "\n"
          ]
        }
      ]
    },
    {
      "cell_type": "markdown",
      "source": [
        "#### Secondo modello (Multinomial Naive Bayes)"
      ],
      "metadata": {
        "id": "jxVu_zLpKCkr"
      }
    },
    {
      "cell_type": "code",
      "source": [
        "mnb = MultinomialNB()\n",
        "mnb.fit(X_train, y_train)"
      ],
      "metadata": {
        "colab": {
          "base_uri": "https://localhost:8080/",
          "height": 80
        },
        "id": "XXz4j2NBKPF1",
        "outputId": "d0669f46-c014-4537-ddc5-aba27f0500bc"
      },
      "execution_count": null,
      "outputs": [
        {
          "output_type": "execute_result",
          "data": {
            "text/plain": [
              "MultinomialNB()"
            ],
            "text/html": [
              "<style>#sk-container-id-1 {\n",
              "  /* Definition of color scheme common for light and dark mode */\n",
              "  --sklearn-color-text: #000;\n",
              "  --sklearn-color-text-muted: #666;\n",
              "  --sklearn-color-line: gray;\n",
              "  /* Definition of color scheme for unfitted estimators */\n",
              "  --sklearn-color-unfitted-level-0: #fff5e6;\n",
              "  --sklearn-color-unfitted-level-1: #f6e4d2;\n",
              "  --sklearn-color-unfitted-level-2: #ffe0b3;\n",
              "  --sklearn-color-unfitted-level-3: chocolate;\n",
              "  /* Definition of color scheme for fitted estimators */\n",
              "  --sklearn-color-fitted-level-0: #f0f8ff;\n",
              "  --sklearn-color-fitted-level-1: #d4ebff;\n",
              "  --sklearn-color-fitted-level-2: #b3dbfd;\n",
              "  --sklearn-color-fitted-level-3: cornflowerblue;\n",
              "\n",
              "  /* Specific color for light theme */\n",
              "  --sklearn-color-text-on-default-background: var(--sg-text-color, var(--theme-code-foreground, var(--jp-content-font-color1, black)));\n",
              "  --sklearn-color-background: var(--sg-background-color, var(--theme-background, var(--jp-layout-color0, white)));\n",
              "  --sklearn-color-border-box: var(--sg-text-color, var(--theme-code-foreground, var(--jp-content-font-color1, black)));\n",
              "  --sklearn-color-icon: #696969;\n",
              "\n",
              "  @media (prefers-color-scheme: dark) {\n",
              "    /* Redefinition of color scheme for dark theme */\n",
              "    --sklearn-color-text-on-default-background: var(--sg-text-color, var(--theme-code-foreground, var(--jp-content-font-color1, white)));\n",
              "    --sklearn-color-background: var(--sg-background-color, var(--theme-background, var(--jp-layout-color0, #111)));\n",
              "    --sklearn-color-border-box: var(--sg-text-color, var(--theme-code-foreground, var(--jp-content-font-color1, white)));\n",
              "    --sklearn-color-icon: #878787;\n",
              "  }\n",
              "}\n",
              "\n",
              "#sk-container-id-1 {\n",
              "  color: var(--sklearn-color-text);\n",
              "}\n",
              "\n",
              "#sk-container-id-1 pre {\n",
              "  padding: 0;\n",
              "}\n",
              "\n",
              "#sk-container-id-1 input.sk-hidden--visually {\n",
              "  border: 0;\n",
              "  clip: rect(1px 1px 1px 1px);\n",
              "  clip: rect(1px, 1px, 1px, 1px);\n",
              "  height: 1px;\n",
              "  margin: -1px;\n",
              "  overflow: hidden;\n",
              "  padding: 0;\n",
              "  position: absolute;\n",
              "  width: 1px;\n",
              "}\n",
              "\n",
              "#sk-container-id-1 div.sk-dashed-wrapped {\n",
              "  border: 1px dashed var(--sklearn-color-line);\n",
              "  margin: 0 0.4em 0.5em 0.4em;\n",
              "  box-sizing: border-box;\n",
              "  padding-bottom: 0.4em;\n",
              "  background-color: var(--sklearn-color-background);\n",
              "}\n",
              "\n",
              "#sk-container-id-1 div.sk-container {\n",
              "  /* jupyter's `normalize.less` sets `[hidden] { display: none; }`\n",
              "     but bootstrap.min.css set `[hidden] { display: none !important; }`\n",
              "     so we also need the `!important` here to be able to override the\n",
              "     default hidden behavior on the sphinx rendered scikit-learn.org.\n",
              "     See: https://github.com/scikit-learn/scikit-learn/issues/21755 */\n",
              "  display: inline-block !important;\n",
              "  position: relative;\n",
              "}\n",
              "\n",
              "#sk-container-id-1 div.sk-text-repr-fallback {\n",
              "  display: none;\n",
              "}\n",
              "\n",
              "div.sk-parallel-item,\n",
              "div.sk-serial,\n",
              "div.sk-item {\n",
              "  /* draw centered vertical line to link estimators */\n",
              "  background-image: linear-gradient(var(--sklearn-color-text-on-default-background), var(--sklearn-color-text-on-default-background));\n",
              "  background-size: 2px 100%;\n",
              "  background-repeat: no-repeat;\n",
              "  background-position: center center;\n",
              "}\n",
              "\n",
              "/* Parallel-specific style estimator block */\n",
              "\n",
              "#sk-container-id-1 div.sk-parallel-item::after {\n",
              "  content: \"\";\n",
              "  width: 100%;\n",
              "  border-bottom: 2px solid var(--sklearn-color-text-on-default-background);\n",
              "  flex-grow: 1;\n",
              "}\n",
              "\n",
              "#sk-container-id-1 div.sk-parallel {\n",
              "  display: flex;\n",
              "  align-items: stretch;\n",
              "  justify-content: center;\n",
              "  background-color: var(--sklearn-color-background);\n",
              "  position: relative;\n",
              "}\n",
              "\n",
              "#sk-container-id-1 div.sk-parallel-item {\n",
              "  display: flex;\n",
              "  flex-direction: column;\n",
              "}\n",
              "\n",
              "#sk-container-id-1 div.sk-parallel-item:first-child::after {\n",
              "  align-self: flex-end;\n",
              "  width: 50%;\n",
              "}\n",
              "\n",
              "#sk-container-id-1 div.sk-parallel-item:last-child::after {\n",
              "  align-self: flex-start;\n",
              "  width: 50%;\n",
              "}\n",
              "\n",
              "#sk-container-id-1 div.sk-parallel-item:only-child::after {\n",
              "  width: 0;\n",
              "}\n",
              "\n",
              "/* Serial-specific style estimator block */\n",
              "\n",
              "#sk-container-id-1 div.sk-serial {\n",
              "  display: flex;\n",
              "  flex-direction: column;\n",
              "  align-items: center;\n",
              "  background-color: var(--sklearn-color-background);\n",
              "  padding-right: 1em;\n",
              "  padding-left: 1em;\n",
              "}\n",
              "\n",
              "\n",
              "/* Toggleable style: style used for estimator/Pipeline/ColumnTransformer box that is\n",
              "clickable and can be expanded/collapsed.\n",
              "- Pipeline and ColumnTransformer use this feature and define the default style\n",
              "- Estimators will overwrite some part of the style using the `sk-estimator` class\n",
              "*/\n",
              "\n",
              "/* Pipeline and ColumnTransformer style (default) */\n",
              "\n",
              "#sk-container-id-1 div.sk-toggleable {\n",
              "  /* Default theme specific background. It is overwritten whether we have a\n",
              "  specific estimator or a Pipeline/ColumnTransformer */\n",
              "  background-color: var(--sklearn-color-background);\n",
              "}\n",
              "\n",
              "/* Toggleable label */\n",
              "#sk-container-id-1 label.sk-toggleable__label {\n",
              "  cursor: pointer;\n",
              "  display: flex;\n",
              "  width: 100%;\n",
              "  margin-bottom: 0;\n",
              "  padding: 0.5em;\n",
              "  box-sizing: border-box;\n",
              "  text-align: center;\n",
              "  align-items: start;\n",
              "  justify-content: space-between;\n",
              "  gap: 0.5em;\n",
              "}\n",
              "\n",
              "#sk-container-id-1 label.sk-toggleable__label .caption {\n",
              "  font-size: 0.6rem;\n",
              "  font-weight: lighter;\n",
              "  color: var(--sklearn-color-text-muted);\n",
              "}\n",
              "\n",
              "#sk-container-id-1 label.sk-toggleable__label-arrow:before {\n",
              "  /* Arrow on the left of the label */\n",
              "  content: \"▸\";\n",
              "  float: left;\n",
              "  margin-right: 0.25em;\n",
              "  color: var(--sklearn-color-icon);\n",
              "}\n",
              "\n",
              "#sk-container-id-1 label.sk-toggleable__label-arrow:hover:before {\n",
              "  color: var(--sklearn-color-text);\n",
              "}\n",
              "\n",
              "/* Toggleable content - dropdown */\n",
              "\n",
              "#sk-container-id-1 div.sk-toggleable__content {\n",
              "  max-height: 0;\n",
              "  max-width: 0;\n",
              "  overflow: hidden;\n",
              "  text-align: left;\n",
              "  /* unfitted */\n",
              "  background-color: var(--sklearn-color-unfitted-level-0);\n",
              "}\n",
              "\n",
              "#sk-container-id-1 div.sk-toggleable__content.fitted {\n",
              "  /* fitted */\n",
              "  background-color: var(--sklearn-color-fitted-level-0);\n",
              "}\n",
              "\n",
              "#sk-container-id-1 div.sk-toggleable__content pre {\n",
              "  margin: 0.2em;\n",
              "  border-radius: 0.25em;\n",
              "  color: var(--sklearn-color-text);\n",
              "  /* unfitted */\n",
              "  background-color: var(--sklearn-color-unfitted-level-0);\n",
              "}\n",
              "\n",
              "#sk-container-id-1 div.sk-toggleable__content.fitted pre {\n",
              "  /* unfitted */\n",
              "  background-color: var(--sklearn-color-fitted-level-0);\n",
              "}\n",
              "\n",
              "#sk-container-id-1 input.sk-toggleable__control:checked~div.sk-toggleable__content {\n",
              "  /* Expand drop-down */\n",
              "  max-height: 200px;\n",
              "  max-width: 100%;\n",
              "  overflow: auto;\n",
              "}\n",
              "\n",
              "#sk-container-id-1 input.sk-toggleable__control:checked~label.sk-toggleable__label-arrow:before {\n",
              "  content: \"▾\";\n",
              "}\n",
              "\n",
              "/* Pipeline/ColumnTransformer-specific style */\n",
              "\n",
              "#sk-container-id-1 div.sk-label input.sk-toggleable__control:checked~label.sk-toggleable__label {\n",
              "  color: var(--sklearn-color-text);\n",
              "  background-color: var(--sklearn-color-unfitted-level-2);\n",
              "}\n",
              "\n",
              "#sk-container-id-1 div.sk-label.fitted input.sk-toggleable__control:checked~label.sk-toggleable__label {\n",
              "  background-color: var(--sklearn-color-fitted-level-2);\n",
              "}\n",
              "\n",
              "/* Estimator-specific style */\n",
              "\n",
              "/* Colorize estimator box */\n",
              "#sk-container-id-1 div.sk-estimator input.sk-toggleable__control:checked~label.sk-toggleable__label {\n",
              "  /* unfitted */\n",
              "  background-color: var(--sklearn-color-unfitted-level-2);\n",
              "}\n",
              "\n",
              "#sk-container-id-1 div.sk-estimator.fitted input.sk-toggleable__control:checked~label.sk-toggleable__label {\n",
              "  /* fitted */\n",
              "  background-color: var(--sklearn-color-fitted-level-2);\n",
              "}\n",
              "\n",
              "#sk-container-id-1 div.sk-label label.sk-toggleable__label,\n",
              "#sk-container-id-1 div.sk-label label {\n",
              "  /* The background is the default theme color */\n",
              "  color: var(--sklearn-color-text-on-default-background);\n",
              "}\n",
              "\n",
              "/* On hover, darken the color of the background */\n",
              "#sk-container-id-1 div.sk-label:hover label.sk-toggleable__label {\n",
              "  color: var(--sklearn-color-text);\n",
              "  background-color: var(--sklearn-color-unfitted-level-2);\n",
              "}\n",
              "\n",
              "/* Label box, darken color on hover, fitted */\n",
              "#sk-container-id-1 div.sk-label.fitted:hover label.sk-toggleable__label.fitted {\n",
              "  color: var(--sklearn-color-text);\n",
              "  background-color: var(--sklearn-color-fitted-level-2);\n",
              "}\n",
              "\n",
              "/* Estimator label */\n",
              "\n",
              "#sk-container-id-1 div.sk-label label {\n",
              "  font-family: monospace;\n",
              "  font-weight: bold;\n",
              "  display: inline-block;\n",
              "  line-height: 1.2em;\n",
              "}\n",
              "\n",
              "#sk-container-id-1 div.sk-label-container {\n",
              "  text-align: center;\n",
              "}\n",
              "\n",
              "/* Estimator-specific */\n",
              "#sk-container-id-1 div.sk-estimator {\n",
              "  font-family: monospace;\n",
              "  border: 1px dotted var(--sklearn-color-border-box);\n",
              "  border-radius: 0.25em;\n",
              "  box-sizing: border-box;\n",
              "  margin-bottom: 0.5em;\n",
              "  /* unfitted */\n",
              "  background-color: var(--sklearn-color-unfitted-level-0);\n",
              "}\n",
              "\n",
              "#sk-container-id-1 div.sk-estimator.fitted {\n",
              "  /* fitted */\n",
              "  background-color: var(--sklearn-color-fitted-level-0);\n",
              "}\n",
              "\n",
              "/* on hover */\n",
              "#sk-container-id-1 div.sk-estimator:hover {\n",
              "  /* unfitted */\n",
              "  background-color: var(--sklearn-color-unfitted-level-2);\n",
              "}\n",
              "\n",
              "#sk-container-id-1 div.sk-estimator.fitted:hover {\n",
              "  /* fitted */\n",
              "  background-color: var(--sklearn-color-fitted-level-2);\n",
              "}\n",
              "\n",
              "/* Specification for estimator info (e.g. \"i\" and \"?\") */\n",
              "\n",
              "/* Common style for \"i\" and \"?\" */\n",
              "\n",
              ".sk-estimator-doc-link,\n",
              "a:link.sk-estimator-doc-link,\n",
              "a:visited.sk-estimator-doc-link {\n",
              "  float: right;\n",
              "  font-size: smaller;\n",
              "  line-height: 1em;\n",
              "  font-family: monospace;\n",
              "  background-color: var(--sklearn-color-background);\n",
              "  border-radius: 1em;\n",
              "  height: 1em;\n",
              "  width: 1em;\n",
              "  text-decoration: none !important;\n",
              "  margin-left: 0.5em;\n",
              "  text-align: center;\n",
              "  /* unfitted */\n",
              "  border: var(--sklearn-color-unfitted-level-1) 1pt solid;\n",
              "  color: var(--sklearn-color-unfitted-level-1);\n",
              "}\n",
              "\n",
              ".sk-estimator-doc-link.fitted,\n",
              "a:link.sk-estimator-doc-link.fitted,\n",
              "a:visited.sk-estimator-doc-link.fitted {\n",
              "  /* fitted */\n",
              "  border: var(--sklearn-color-fitted-level-1) 1pt solid;\n",
              "  color: var(--sklearn-color-fitted-level-1);\n",
              "}\n",
              "\n",
              "/* On hover */\n",
              "div.sk-estimator:hover .sk-estimator-doc-link:hover,\n",
              ".sk-estimator-doc-link:hover,\n",
              "div.sk-label-container:hover .sk-estimator-doc-link:hover,\n",
              ".sk-estimator-doc-link:hover {\n",
              "  /* unfitted */\n",
              "  background-color: var(--sklearn-color-unfitted-level-3);\n",
              "  color: var(--sklearn-color-background);\n",
              "  text-decoration: none;\n",
              "}\n",
              "\n",
              "div.sk-estimator.fitted:hover .sk-estimator-doc-link.fitted:hover,\n",
              ".sk-estimator-doc-link.fitted:hover,\n",
              "div.sk-label-container:hover .sk-estimator-doc-link.fitted:hover,\n",
              ".sk-estimator-doc-link.fitted:hover {\n",
              "  /* fitted */\n",
              "  background-color: var(--sklearn-color-fitted-level-3);\n",
              "  color: var(--sklearn-color-background);\n",
              "  text-decoration: none;\n",
              "}\n",
              "\n",
              "/* Span, style for the box shown on hovering the info icon */\n",
              ".sk-estimator-doc-link span {\n",
              "  display: none;\n",
              "  z-index: 9999;\n",
              "  position: relative;\n",
              "  font-weight: normal;\n",
              "  right: .2ex;\n",
              "  padding: .5ex;\n",
              "  margin: .5ex;\n",
              "  width: min-content;\n",
              "  min-width: 20ex;\n",
              "  max-width: 50ex;\n",
              "  color: var(--sklearn-color-text);\n",
              "  box-shadow: 2pt 2pt 4pt #999;\n",
              "  /* unfitted */\n",
              "  background: var(--sklearn-color-unfitted-level-0);\n",
              "  border: .5pt solid var(--sklearn-color-unfitted-level-3);\n",
              "}\n",
              "\n",
              ".sk-estimator-doc-link.fitted span {\n",
              "  /* fitted */\n",
              "  background: var(--sklearn-color-fitted-level-0);\n",
              "  border: var(--sklearn-color-fitted-level-3);\n",
              "}\n",
              "\n",
              ".sk-estimator-doc-link:hover span {\n",
              "  display: block;\n",
              "}\n",
              "\n",
              "/* \"?\"-specific style due to the `<a>` HTML tag */\n",
              "\n",
              "#sk-container-id-1 a.estimator_doc_link {\n",
              "  float: right;\n",
              "  font-size: 1rem;\n",
              "  line-height: 1em;\n",
              "  font-family: monospace;\n",
              "  background-color: var(--sklearn-color-background);\n",
              "  border-radius: 1rem;\n",
              "  height: 1rem;\n",
              "  width: 1rem;\n",
              "  text-decoration: none;\n",
              "  /* unfitted */\n",
              "  color: var(--sklearn-color-unfitted-level-1);\n",
              "  border: var(--sklearn-color-unfitted-level-1) 1pt solid;\n",
              "}\n",
              "\n",
              "#sk-container-id-1 a.estimator_doc_link.fitted {\n",
              "  /* fitted */\n",
              "  border: var(--sklearn-color-fitted-level-1) 1pt solid;\n",
              "  color: var(--sklearn-color-fitted-level-1);\n",
              "}\n",
              "\n",
              "/* On hover */\n",
              "#sk-container-id-1 a.estimator_doc_link:hover {\n",
              "  /* unfitted */\n",
              "  background-color: var(--sklearn-color-unfitted-level-3);\n",
              "  color: var(--sklearn-color-background);\n",
              "  text-decoration: none;\n",
              "}\n",
              "\n",
              "#sk-container-id-1 a.estimator_doc_link.fitted:hover {\n",
              "  /* fitted */\n",
              "  background-color: var(--sklearn-color-fitted-level-3);\n",
              "}\n",
              "</style><div id=\"sk-container-id-1\" class=\"sk-top-container\"><div class=\"sk-text-repr-fallback\"><pre>MultinomialNB()</pre><b>In a Jupyter environment, please rerun this cell to show the HTML representation or trust the notebook. <br />On GitHub, the HTML representation is unable to render, please try loading this page with nbviewer.org.</b></div><div class=\"sk-container\" hidden><div class=\"sk-item\"><div class=\"sk-estimator fitted sk-toggleable\"><input class=\"sk-toggleable__control sk-hidden--visually\" id=\"sk-estimator-id-1\" type=\"checkbox\" checked><label for=\"sk-estimator-id-1\" class=\"sk-toggleable__label fitted sk-toggleable__label-arrow\"><div><div>MultinomialNB</div></div><div><a class=\"sk-estimator-doc-link fitted\" rel=\"noreferrer\" target=\"_blank\" href=\"https://scikit-learn.org/1.6/modules/generated/sklearn.naive_bayes.MultinomialNB.html\">?<span>Documentation for MultinomialNB</span></a><span class=\"sk-estimator-doc-link fitted\">i<span>Fitted</span></span></div></label><div class=\"sk-toggleable__content fitted\"><pre>MultinomialNB()</pre></div> </div></div></div></div>"
            ]
          },
          "metadata": {},
          "execution_count": 117
        }
      ]
    },
    {
      "cell_type": "code",
      "source": [
        "y_pred_test = mnb.predict(X_test) # Prevedo i risultati il test set\n",
        "print(\"Classification Report (Test Set):\\n\", classification_report(y_test, y_pred_test)) # Stampo la tabella dei risultati\n",
        "\n",
        "y_pred_train = mnb.predict(X_train)  # Prevedo i risultati per il training set\n",
        "print(\"\\nClassification Report (Training Set):\\n\", classification_report(y_train, y_pred_train)) # Stampo la tabella dei risultati"
      ],
      "metadata": {
        "colab": {
          "base_uri": "https://localhost:8080/"
        },
        "id": "myYRsQxaKaGC",
        "outputId": "653d0f3c-11c8-4ca1-c36c-a21b95dab042"
      },
      "execution_count": null,
      "outputs": [
        {
          "output_type": "stream",
          "name": "stdout",
          "text": [
            "Classification Report (Test Set):\n",
            "               precision    recall  f1-score   support\n",
            "\n",
            "           0       0.95      0.95      0.95        19\n",
            "           1       0.94      0.80      0.86        20\n",
            "           2       0.87      1.00      0.93        20\n",
            "\n",
            "    accuracy                           0.92        59\n",
            "   macro avg       0.92      0.92      0.91        59\n",
            "weighted avg       0.92      0.92      0.91        59\n",
            "\n",
            "\n",
            "Classification Report (Training Set):\n",
            "               precision    recall  f1-score   support\n",
            "\n",
            "           0       1.00      0.99      0.99        79\n",
            "           1       0.99      0.97      0.98        78\n",
            "           2       0.97      1.00      0.99        78\n",
            "\n",
            "    accuracy                           0.99       235\n",
            "   macro avg       0.99      0.99      0.99       235\n",
            "weighted avg       0.99      0.99      0.99       235\n",
            "\n"
          ]
        }
      ]
    },
    {
      "cell_type": "markdown",
      "source": [
        "---"
      ],
      "metadata": {
        "id": "D6aMOxFgKAe7"
      }
    },
    {
      "cell_type": "markdown",
      "source": [
        "## **Spiegazione del codice:**"
      ],
      "metadata": {
        "id": "5lcpZtJv_ywQ"
      }
    },
    {
      "cell_type": "markdown",
      "source": [
        "### ---> **Sezione: ([Librerie Utilizzate](#librerie))**\n",
        "\n",
        "Questa sezione contiene l'importazione delle principali **librerie Python** necessarie per il nostro progetto.  \n",
        "Le librerie incluse coprono la manipolazione dei dati, il preprocessing del testo, la visualizzazione, l'addestramento di modelli di machine learning e metriche di valutazione.\n",
        "\n",
        "#### 🔹 Librerie Importate:\n",
        "- **pandas** → Per la manipolazione dei dataset  \n",
        "- **re, string** → Per la gestione e la manipolazione di stringhe e espressioni regolari  \n",
        "- **numpy** → Per operazioni matematiche e gestione di array  \n",
        "- **nltk**:\n",
        "  - `ngrams` → Per la generazione di n-grammi  \n",
        "  - `stopwords` → Per la gestione delle stopwords in diverse lingue (`italiano, inglese, tedesco`)  \n",
        "- **scikit-learn**:\n",
        "  - `LabelEncoder` → Per l'encoding delle etichette di classe  \n",
        "  - `CountVectorizer` → Per la trasformazione del testo in rappresentazioni numeriche  \n",
        "  - `train_test_split, RandomizedSearchCV` → Per la suddivisione dei dati e l'ottimizzazione degli iperparametri  \n",
        "  - `MLPClassifier` → Per la creazione di una rete neurale artificiale  \n",
        "  - `MultinomialNB` → Per il modello Naive Bayes multinomiale  \n",
        "  - `classification_report, accuracy_score, log_loss` → Per la valutazione delle prestazioni del modello  \n",
        "- **scipy.stats** → Per la generazione di distribuzioni casuali e ricerca degli iperparametri  \n",
        "\n",
        "#### Codice:\n",
        "```python\n",
        "import nltk\n",
        "nltk.download('stopwords')\n",
        "\n",
        "stopwords_it = set(stopwords.words('italian'))\n",
        "stopwords_en = set(stopwords.words('english'))\n",
        "stopwords_de = set(stopwords.words('german'))\n",
        "\n",
        "all_stopwords = stopwords_it | stopwords_en | stopwords_de\n",
        "\n",
        "import pandas as pd\n",
        "import re\n",
        "import string\n",
        "import numpy as np\n",
        "from nltk import ngrams\n",
        "from nltk.corpus import stopwords\n",
        "from sklearn.preprocessing import LabelEncoder\n",
        "from sklearn.feature_extraction.text import CountVectorizer\n",
        "from sklearn.model_selection import train_test_split, RandomizedSearchCV\n",
        "from sklearn.neural_network import MLPClassifier\n",
        "from sklearn.naive_bayes import MultinomialNB\n",
        "from sklearn.metrics import classification_report, accuracy_score, log_loss\n",
        "from scipy.stats import uniform, randint\n",
        "\n",
        "RANDOM_SEED = 42\n"
      ],
      "metadata": {
        "id": "gXAWPsSVOfWb"
      }
    },
    {
      "cell_type": "markdown",
      "source": [
        "---"
      ],
      "metadata": {
        "id": "ltYY3Gtxeznc"
      }
    },
    {
      "cell_type": "markdown",
      "source": [
        "### ---> **Sezione: Funzioni per la Pulizia e Predizione del Testo ([Funzioni Utilizzate](#funzioni))**\n",
        "\n",
        "Questa sezione contiene tre funzioni essenziali per la gestione del testo e la predizione della lingua.\n",
        "\n",
        "</br>\n",
        "\n",
        "#### 🔹 1. Pulizia del Testo (`data_cleaner`)\n",
        "Questa funzione:\n",
        "- Converte il testo in minuscolo.\n",
        "- Rimuovo le stopwords\n",
        "- Rimuove punteggiatura e numeri.\n",
        "- Sostituisce spazi multipli con uno solo.\n",
        "\n",
        "```python\n",
        "def data_cleaner(sentence): # Funzione per la pulizia del testo\n",
        "\n",
        "    sentence = sentence.lower() # Tolgo le maiuscole\n",
        "    for c in string.punctuation: # Itero per togliere la punteggiatura e metto uno spazio\n",
        "        sentence = sentence.replace(c, \" \")\n",
        "\n",
        "    sentence = ' '.join(word for word in sentence.split() if word not in all_stopwords)\n",
        "    sentence = re.sub(\"\\d\", \"\", sentence) # Tolgo i numeri\n",
        "    sentence = re.sub(\" +\", \" \", sentence) # Tolgo gli spazzi multipli\n",
        "\n",
        "    return sentence\n",
        "```\n",
        "\n",
        "---\n",
        "\n",
        "#### 🔹 2. Conversione in Bag of Words (`bow_count`)\n",
        "Trasforma il testo in una rappresentazione numerica con `CountVectorizer`.\n",
        "\n",
        "```python\n",
        "def bow_count(dataset, count_vectorizer): # Funzione per applicare il CountVectorizer\n",
        "\n",
        "    X = count_vectorizer.transform(dataset) # Trasformo una frase\n",
        "\n",
        "    return X.toarray()\n",
        "```\n",
        "\n",
        "---\n",
        "\n",
        "#### 🔹 3. Predizione della Lingua (`pred`)\n",
        "Questa funzione prende in input una frase e restituisce la lingua predetta dal modello. Ecco i passaggi principali:  \n",
        "1. **Pulizia del testo** → La frase viene normalizzata con `data_cleaner`.  \n",
        "2. **Creazione dei trigrammi** → Il testo viene trasformato in sequenze di tre caratteri consecutivi.  \n",
        "3. **Vettorizzazione** → I trigrammi vengono convertiti in una rappresentazione numerica con `bow_count`.  \n",
        "4. **Predizione con il modello ML** → Il modello prevede l'etichetta numerica corrispondente alla lingua.  \n",
        "5. **Decodifica dell'etichetta** → Il numero viene convertito nel nome della lingua (es. \"it\", \"en\", \"de\") usando `LabelEncoder`.  \n",
        "\n",
        "```python\n",
        "def pred(model, sentence, cvectorized, label_encoder):  # Aggiunto label_encoder come parametro\n",
        "    try:\n",
        "        cleaned_sentence = data_cleaner(sentence)  # Pulisco la frase\n",
        "        ngrams_list = [\" \".join([\"\".join(gram) for gram in ngrams(cleaned_sentence, 3)])]  # Creo i tri-grammi\n",
        "        vectorized_sentence = bow_count(ngrams_list, cvectorized)  # Trasformo la frase\n",
        "        risultato = model.predict(vectorized_sentence)  # Faccio la predizione\n",
        "\n",
        "        # Decodifico il numero nella lingua corrispondente\n",
        "        lingua_predetta = label_encoder.inverse_transform([risultato[0]])[0]\n",
        "\n",
        "        return f\"La frase da te inserita corrisponde alla lingua: {lingua_predetta}\"\n",
        "\n",
        "    except Exception as e:\n",
        "        return f\"Errore durante la predizione: {e}\"\n",
        "\n",
        "```"
      ],
      "metadata": {
        "id": "FXddgjU7Oft3"
      }
    },
    {
      "cell_type": "markdown",
      "source": [
        "---"
      ],
      "metadata": {
        "id": "nh4B2HRwSLB4"
      }
    },
    {
      "cell_type": "markdown",
      "source": [
        "### ---> **Sezione: Descrizione del Codice per l'Identificazione della Lingua dei Testi ([Codice principale](#main-/-codice-principale))**\n",
        "\n",
        "In questo codice, il nostro obiettivo è costruire un modello di machine learning per identificare la lingua dei testi di un museo.\n",
        "\n",
        "#### 🔹 1. **Caricamento dei Dati**  \n",
        "   Il codice inizia caricando un dataset da un file CSV presente su GitHub. Il dataset contiene descrizioni di opere e il loro corrispondente codice di lingua. La riga di codice:\n",
        "\n",
        "   ```python\n",
        "   df_lingue = pd.read_csv(\"https://raw.githubusercontent.com/.../museo_descrizioni.csv\")\n",
        "   ```\n",
        "   Legge i dati e li carica in un dataframe di pandas.\n",
        "\n",
        "---\n",
        "\n",
        "#### 🔹 2. **Preprocessing del Testo**  \n",
        "   Il preprocessing del testo è una fase fondamentale per la preparazione dei dati. In questa sezione, ogni descrizione del museo viene trasformata in un formato adatto all'analisi del modello di machine learning.  \n",
        "\n",
        "   **Passaggi principali:**  \n",
        "   1. **Selezione del target** → La colonna `\"Codice Lingua\"` viene estratta come valore da prevedere, rappresentando la lingua della descrizione.  \n",
        "   2. **Pulizia del testo** → Ogni frase viene normalizzata e ripulita utilizzando la funzione `data_cleaner`, che rimuove caratteri indesiderati e standardizza il testo.  \n",
        "   3. **Generazione dei trigrammi** → Dopo la pulizia, ogni frase viene trasformata in un insieme di **tri-grammi**, ovvero sequenze di tre caratteri consecutivi.  \n",
        "   4. **Unione dei trigrammi** → I trigrammi generati vengono poi concatenati in un'unica stringa per facilitare la successiva vettorizzazione.  \n",
        "\n",
        "   **Codice:**  \n",
        "   ```python\n",
        "   target = df_lingue[\"Codice Lingua\"]  # Valore da prevedere (etichetta della lingua)\n",
        "\n",
        "   df_lingue_cleaned = [data_cleaner(sentence) for sentence in df_lingue[\"Testo\"]]  # Pulizia del testo\n",
        "   ngr_df_lingue_cleaned = [\" \".join([\"\".join(gram) for gram in ngrams(sentence, 3)]) for sentence in df_lingue_cleaned]  # Creazione e unione dei tri-grammi\n",
        "   ```\n",
        "\n",
        "\n",
        "---\n",
        "\n",
        "#### 🔹 3. **Estrazione delle Caratteristiche**  \n",
        "   Viene utilizzato il **CountVectorizer** di `scikit-learn` per trasformare le frasi in una rappresentazione numerica basata su tri-grammi.  \n",
        "   Questo processo crea una matrice di frequenze, che rappresenta la presenza di n-grammi nei testi.\n",
        "   \n",
        "   ```python\n",
        "   cvectorized = CountVectorizer(analyzer='char', ngram_range=(1, 3))\n",
        "   cvectorized.fit(ngr_df_lingue_cleaned)\n",
        "   ```\n",
        "\n",
        "---\n",
        "\n",
        "#### 🔹 4. **Divisione del Dataset in Set di Addestramento e Test**   \n",
        "  Per garantire una corretta valutazione del modello, il dataset viene suddiviso in due insiemi:  \n",
        "  - **Training set** (`X_train` e `y_train`) → Utilizzato per addestrare il modello.  \n",
        "  - **Test set** (`X_test` e `y_test`) → Utilizzato per valutare le prestazioni del modello su dati mai visti prima.  \n",
        "\n",
        "La suddivisione avviene in modo **stratificato** grazie al parametro `stratify=target`. Questo assicura che la distribuzione delle lingue sia simile in entrambi i set, evitando sbilanciamenti che potrebbero compromettere l'addestramento del modello.  \n",
        "\n",
        "  **Codice:**  \n",
        "   ```python\n",
        "   X_train, X_test, y_train, y_test = train_test_split(ngr_bow_df, target, test_size=0.2, stratify=target, random_state=RANDOM_SEED)  # Divido il dataset mantenendo la distribuzione originale delle classi\n",
        "   ```\n",
        "\n",
        "---\n",
        "\n",
        "#### 🔹 5. **Ricerca degli Iperparametri Ottimali**  \n",
        "   Utilizzando il `RandomizedSearchCV`, viene eseguita una ricerca casuale per trovare i migliori iperparametri per un modello di **Multi-Layer Perceptron (`MLP`)**,  \n",
        "   che è una rete neurale completamente connessa. I parametri ottimizzati includono la struttura del layer nascosto, la funzione di attivazione, l’alpha e la velocità di apprendimento.\n",
        "\n",
        "   ```python\n",
        "   rs = RandomizedSearchCV(estimator=mlp, param_distributions=param_distributions, scoring=\"accuracy\", refit=True, n_iter=20, cv=10, random_state=RANDOM_SEED, n_jobs=-1)\n",
        "   ```\n",
        "\n",
        "---\n",
        "\n",
        "#### 🔹 6. **Addestramento del 1° Modello (MLPClassifier)**  \n",
        "   Una volta trovati i migliori iperparametri, il modello viene addestrato con i dati di addestramento.\n",
        "\n",
        "   ```python\n",
        "   clf = rs.best_estimator_\n",
        "   clf.fit(X_train, y_train)\n",
        "   ```\n",
        "\n",
        "---\n",
        "\n",
        "#### 🔹 7. **Valutazione del 1° Modello (MLPClassifier)**  \n",
        "   Dopo l’addestramento, il modello è testato sui dati di test e train e viene generato un **classification report** per valutare le sue performance,  \n",
        "   includendo metriche come precision, recall e F1-score.\n",
        "\n",
        "   ```python\n",
        "   y_pred_test = clf.predict(X_test) # Prevedo i risultati il test set\n",
        "   print(\"Classification Report (Test Set):\\n\", classification_report(y_test, y_pred_test)) # Stampo la tabella dei risultati\n",
        "\n",
        "   y_pred_train = clf.predict(X_train)  # Prevedo i risultati per il training set\n",
        "   print(\"\\nClassification Report (Training Set):\\n\", classification_report(y_train, y_pred_train)) # Stampo la tabella dei risultati\n",
        "   ```\n",
        "\n",
        "---\n",
        "\n",
        "### 🔹 8. **Addestramento del 2° Modello (Multinomial Naive Bayes)**  \n",
        "   In aggiunta al modello basato su reti neurali, viene addestrato un **Naive Bayes Multinomial** (`MultinomialNB`).  \n",
        "   Questo modello è spesso efficace per la classificazione di testi e utilizza la distribuzione multinomiale per calcolare la probabilità delle classi.\n",
        "\n",
        "   ```python\n",
        "   mnb = MultinomialNB()\n",
        "   mnb.fit(X_train, y_train)\n",
        "   ```\n",
        "\n",
        "---\n",
        "\n",
        "### 🔹 9. **Valutazione del 2° Modello (Multinomial Naive Bayes)**  \n",
        "   Il modello viene testato sui dati di test e train e viene generato un **classification report** per valutare le sue performance.  \n",
        "\n",
        "   ```python\n",
        "   y_pred_test = mnb.predict(X_test) # Prevedo i risultati il test set\n",
        "   print(\"Classification Report (Test Set):\\n\", classification_report(y_test, y_pred_test)) # Stampo la tabella dei risultati\n",
        "\n",
        "   y_pred_train = mnb.predict(X_train)  # Prevedo i risultati per il training set\n",
        "   print(\"\\nClassification Report (Training Set):\\n\", classification_report(y_train, y_pred_train)) # Stampo la tabella dei risultati\n",
        "   ```\n",
        "\n"
      ],
      "metadata": {
        "id": "eavEo0TXOgVP"
      }
    },
    {
      "cell_type": "markdown",
      "source": [
        "---"
      ],
      "metadata": {
        "id": "aU3sotG4KCa_"
      }
    },
    {
      "cell_type": "markdown",
      "source": [
        "## **Test:**"
      ],
      "metadata": {
        "id": "yngDS8gp-EsR"
      }
    },
    {
      "cell_type": "markdown",
      "source": [
        "### 1. (MLPClassifier)"
      ],
      "metadata": {
        "id": "nPICHjO0-zdu"
      }
    },
    {
      "cell_type": "code",
      "source": [
        "print(f\"Questo è il programma per analizzare e riconoscere la lingua delle descrizioni, supporta le seguenti lingue: {set(df_lingue['Codice Lingua'])}\")\n",
        "\n",
        "sentence = input(\"Inserisci una frase da analizzare: \")\n",
        "risultato = pred(clf, sentence, cvectorized)\n",
        "\n",
        "print(risultato)"
      ],
      "metadata": {
        "colab": {
          "base_uri": "https://localhost:8080/"
        },
        "id": "p0Qk8h1FZuPd",
        "outputId": "494bec09-df25-41a7-c615-9558ad01ab69"
      },
      "execution_count": null,
      "outputs": [
        {
          "output_type": "stream",
          "name": "stdout",
          "text": [
            "Questo è il programma per analizzare e riconoscere la lingua delle descrizioni, supporta le seguenti lingue: {'en', 'de', 'it'}\n",
            "Inserisci una frase da analizzare: Dies ist eine antike griechische Amphora, die etwa im 5. Jahrhundert v. Chr. gefertigt wurde. Die Vase besteht aus Terrakotta und zeigt filigrane schwarzfigurige Malerei, die Szenen aus dem täglichen Leben und der Mythologie darstellt. Ihre elegante, schlanke Form ist typisch für diese Periode, und sie wurde wahrscheinlich zur Aufbewahrung von Flüssigkeiten wie Wein oder Öl verwendet. Die detaillierte Kunst auf dem Gefäß gibt einen Einblick in die kulturellen und künstlerischen Praktiken des antiken Griechenlands.\n",
            "La frase da te inserita corrisponde alla lingua: de\n"
          ]
        }
      ]
    },
    {
      "cell_type": "markdown",
      "source": [
        "---"
      ],
      "metadata": {
        "id": "3aMo-6XGiTCK"
      }
    },
    {
      "cell_type": "markdown",
      "source": [
        "### 2. (MLPClassifier)"
      ],
      "metadata": {
        "id": "3JXlGyou-08N"
      }
    },
    {
      "cell_type": "code",
      "source": [
        "print(f\"Questo è il programma per analizzare e riconoscere la lingua delle descrizioni, supporta le seguenti lingue: {set(df_lingue['Codice Lingua'])}\")\n",
        "\n",
        "sentence = input(\"Inserisci una frase da analizzare: \")\n",
        "risultato = pred(clf, sentence, cvectorized)\n",
        "\n",
        "print(risultato)"
      ],
      "metadata": {
        "id": "O-mEoKi_kvMy",
        "colab": {
          "base_uri": "https://localhost:8080/"
        },
        "outputId": "387928c1-fa3c-4acb-8d67-d25829a31b90"
      },
      "execution_count": null,
      "outputs": [
        {
          "output_type": "stream",
          "name": "stdout",
          "text": [
            "Questo è il programma per analizzare e riconoscere la lingua delle descrizioni, supporta le seguenti lingue: {'en', 'de', 'it'}\n",
            "Inserisci una frase da analizzare: This is an ancient Greek amphora, crafted around the 5th century BCE. The vase is made from terracotta and features intricate black-figure pottery depicting scenes from daily life and mythology. Its elegant, slender shape is characteristic of the period, and it was likely used for storing liquids such as wine or oil. The detailed artwork on the vessel provides a glimpse into the cultural and artistic practices of ancient Greece.\n",
            "La frase da te inserita corrisponde alla lingua: en\n"
          ]
        }
      ]
    },
    {
      "cell_type": "markdown",
      "source": [
        "---"
      ],
      "metadata": {
        "id": "q_NpSw1GiUNM"
      }
    },
    {
      "cell_type": "markdown",
      "source": [
        "### 3. (MLPClassifier)"
      ],
      "metadata": {
        "id": "nfvfCbuq-2DH"
      }
    },
    {
      "cell_type": "code",
      "source": [
        "print(f\"Questo è il programma per analizzare e riconoscere la lingua delle descrizioni, supporta le seguenti lingue: {set(df_lingue['Codice Lingua'])}\")\n",
        "\n",
        "sentence = input(\"Inserisci una frase da analizzare: \")\n",
        "risultato = pred(clf, sentence, cvectorized)\n",
        "\n",
        "print(risultato)"
      ],
      "metadata": {
        "colab": {
          "base_uri": "https://localhost:8080/"
        },
        "id": "G-9VQaUY6ZAX",
        "outputId": "16d1c007-faa9-48c0-a39b-0eb57b598bb9"
      },
      "execution_count": null,
      "outputs": [
        {
          "output_type": "stream",
          "name": "stdout",
          "text": [
            "Questo è il programma per analizzare e riconoscere la lingua delle descrizioni, supporta le seguenti lingue: {'en', 'de', 'it'}\n",
            "Inserisci una frase da analizzare: Questa è un'antica anfora greca, realizzata intorno al V secolo a.C. La vase è fatta di terracotta e presenta intricate pitture a figure nere che raffigurano scene della vita quotidiana e della mitologia. La sua forma elegante e slanciata è caratteristica del periodo, ed era probabilmente utilizzata per conservare liquidi come vino o olio. L'arte dettagliata sull'oggetto offre uno spunto sulle pratiche culturali e artistiche della Grecia antica.\n",
            "La frase da te inserita corrisponde alla lingua: it\n"
          ]
        }
      ]
    },
    {
      "cell_type": "markdown",
      "source": [
        "---"
      ],
      "metadata": {
        "id": "2XJKimociVFS"
      }
    },
    {
      "cell_type": "markdown",
      "source": [
        "### 4. (Multinomial Naive Bayes)"
      ],
      "metadata": {
        "id": "vVDw6SKeW_RY"
      }
    },
    {
      "cell_type": "code",
      "source": [
        "print(f\"Questo è il programma per analizzare e riconoscere la lingua delle descrizioni, supporta le seguenti lingue: {set(df_lingue['Codice Lingua'])}\")\n",
        "\n",
        "sentence = input(\"Inserisci una frase da analizzare: \")\n",
        "risultato = pred(mnb, sentence, cvectorized)\n",
        "\n",
        "print(risultato)"
      ],
      "metadata": {
        "colab": {
          "base_uri": "https://localhost:8080/"
        },
        "id": "x53hdPkpWMTc",
        "outputId": "e9df51f7-8a0f-4cd8-c8fe-db0ffd43ca6c"
      },
      "execution_count": null,
      "outputs": [
        {
          "output_type": "stream",
          "name": "stdout",
          "text": [
            "Questo è il programma per analizzare e riconoscere la lingua delle descrizioni, supporta le seguenti lingue: {'en', 'de', 'it'}\n",
            "Inserisci una frase da analizzare: Questa è un'antica anfora greca, realizzata intorno al V secolo a.C. La vase è fatta di terracotta e presenta intricate pitture a figure nere che raffigurano scene della vita quotidiana e della mitologia. La sua forma elegante e slanciata è caratteristica del periodo, ed era probabilmente utilizzata per conservare liquidi come vino o olio. L'arte dettagliata sull'oggetto offre uno spunto sulle pratiche culturali e artistiche della Grecia antica.\n",
            "La frase da te inserita corrisponde alla lingua: it\n"
          ]
        }
      ]
    },
    {
      "cell_type": "markdown",
      "source": [
        "---"
      ],
      "metadata": {
        "id": "fo9FF4wuXHW3"
      }
    },
    {
      "cell_type": "markdown",
      "source": [
        "### 5. (Multinomial Naive Bayes)"
      ],
      "metadata": {
        "id": "iz_1L-QgXJaM"
      }
    },
    {
      "cell_type": "code",
      "source": [
        "print(f\"Questo è il programma per analizzare e riconoscere la lingua delle descrizioni, supporta le seguenti lingue: {set(df_lingue['Codice Lingua'])}\")\n",
        "\n",
        "sentence = input(\"Inserisci una frase da analizzare: \")\n",
        "risultato = pred(mnb, sentence, cvectorized)\n",
        "\n",
        "print(risultato)"
      ],
      "metadata": {
        "colab": {
          "base_uri": "https://localhost:8080/"
        },
        "id": "Uu9ieSP-WO1y",
        "outputId": "a27e25af-9a87-43f8-9616-a072607c4eff"
      },
      "execution_count": null,
      "outputs": [
        {
          "output_type": "stream",
          "name": "stdout",
          "text": [
            "Questo è il programma per analizzare e riconoscere la lingua delle descrizioni, supporta le seguenti lingue: {'en', 'de', 'it'}\n",
            "Inserisci una frase da analizzare: This is an ancient Greek amphora, crafted around the 5th century BCE. The vase is made from terracotta and features intricate black-figure pottery depicting scenes from daily life and mythology. Its elegant, slender shape is characteristic of the period, and it was likely used for storing liquids such as wine or oil. The detailed artwork on the vessel provides a glimpse into the cultural and artistic practices of ancient Greece.\n",
            "La frase da te inserita corrisponde alla lingua: en\n"
          ]
        }
      ]
    },
    {
      "cell_type": "markdown",
      "source": [
        "---"
      ],
      "metadata": {
        "id": "C6ZUP6MMXKMp"
      }
    },
    {
      "cell_type": "markdown",
      "source": [
        "### 6. (Multinomial Naive Bayes)"
      ],
      "metadata": {
        "id": "GEQYF7LTXLFT"
      }
    },
    {
      "cell_type": "code",
      "source": [
        "print(f\"Questo è il programma per analizzare e riconoscere la lingua delle descrizioni, supporta le seguenti lingue: {set(df_lingue['Codice Lingua'])}\")\n",
        "\n",
        "sentence = input(\"Inserisci una frase da analizzare: \")\n",
        "risultato = pred(mnb, sentence, cvectorized)\n",
        "\n",
        "print(risultato)"
      ],
      "metadata": {
        "colab": {
          "base_uri": "https://localhost:8080/"
        },
        "id": "9Ng3pzG4XKjR",
        "outputId": "04b1f753-e56a-41cf-978e-66014d9283ed"
      },
      "execution_count": null,
      "outputs": [
        {
          "output_type": "stream",
          "name": "stdout",
          "text": [
            "Questo è il programma per analizzare e riconoscere la lingua delle descrizioni, supporta le seguenti lingue: {'en', 'de', 'it'}\n",
            "Inserisci una frase da analizzare: Dies ist eine antike griechische Amphora, die etwa im 5. Jahrhundert v. Chr. gefertigt wurde. Die Vase besteht aus Terrakotta und zeigt filigrane schwarzfigurige Malerei, die Szenen aus dem täglichen Leben und der Mythologie darstellt. Ihre elegante, schlanke Form ist typisch für diese Periode, und sie wurde wahrscheinlich zur Aufbewahrung von Flüssigkeiten wie Wein oder Öl verwendet. Die detaillierte Kunst auf dem Gefäß gibt einen Einblick in die kulturellen und künstlerischen Praktiken des antiken Griechenlands.\n",
            "La frase da te inserita corrisponde alla lingua: de\n"
          ]
        }
      ]
    },
    {
      "cell_type": "markdown",
      "source": [
        "---"
      ],
      "metadata": {
        "id": "eCOxlIfqXLZ7"
      }
    }
  ]
}